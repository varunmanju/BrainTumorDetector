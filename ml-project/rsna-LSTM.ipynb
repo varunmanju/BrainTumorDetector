{
 "cells": [
  {
   "cell_type": "code",
   "execution_count": 60,
   "metadata": {
    "execution": {
     "iopub.execute_input": "2021-12-12T14:44:49.231822Z",
     "iopub.status.busy": "2021-12-12T14:44:49.231024Z",
     "iopub.status.idle": "2021-12-12T14:44:55.607294Z",
     "shell.execute_reply": "2021-12-12T14:44:55.606433Z",
     "shell.execute_reply.started": "2021-12-12T14:44:49.231775Z"
    }
   },
   "outputs": [],
   "source": [
    "import os\n",
    "import numpy as np \n",
    "import pandas as pd\n",
    "import matplotlib.pyplot as plt\n",
    "from sklearn.model_selection import train_test_split\n",
    "\n",
    "from pydicom import dcmread\n",
    "from pydicom.data import get_testdata_file\n",
    "\n",
    "import tensorflow as tf\n",
    "from tensorflow import keras\n",
    "from tensorflow.keras import layers\n",
    "from tensorflow.keras import Model\n",
    "from tensorflow.keras.models import Sequential\n",
    "from tensorflow.keras.layers import Activation, Dense, LSTM, Dropout, Bidirectional\n",
    "from tensorflow.keras.optimizers import Adam\n",
    "from tensorflow.keras.metrics import categorical_crossentropy"
   ]
  },
  {
   "cell_type": "code",
   "execution_count": 2,
   "metadata": {
    "execution": {
     "iopub.execute_input": "2021-12-12T14:44:58.015868Z",
     "iopub.status.busy": "2021-12-12T14:44:58.015363Z",
     "iopub.status.idle": "2021-12-12T14:44:58.022934Z",
     "shell.execute_reply": "2021-12-12T14:44:58.021572Z",
     "shell.execute_reply.started": "2021-12-12T14:44:58.015829Z"
    }
   },
   "outputs": [],
   "source": [
    "root_data_path = 'data'# '../input/rsna-miccai-brain-tumor-radiogenomic-classification'\n",
    "train_images_path = root_data_path + '/train'\n",
    "test_images_path = root_data_path + '/test'\n",
    "train_labels_path = root_data_path + '/train_labels.csv'"
   ]
  },
  {
   "cell_type": "code",
   "execution_count": 3,
   "metadata": {
    "execution": {
     "iopub.execute_input": "2021-12-12T14:45:01.175819Z",
     "iopub.status.busy": "2021-12-12T14:45:01.175331Z",
     "iopub.status.idle": "2021-12-12T14:45:01.179085Z",
     "shell.execute_reply": "2021-12-12T14:45:01.178391Z",
     "shell.execute_reply.started": "2021-12-12T14:45:01.175781Z"
    }
   },
   "outputs": [],
   "source": [
    "IMAGE_SIZE = 128"
   ]
  },
  {
   "cell_type": "code",
   "execution_count": 8,
   "metadata": {
    "execution": {
     "iopub.execute_input": "2021-12-12T14:45:08.440640Z",
     "iopub.status.busy": "2021-12-12T14:45:08.440378Z",
     "iopub.status.idle": "2021-12-12T14:45:08.449670Z",
     "shell.execute_reply": "2021-12-12T14:45:08.448824Z",
     "shell.execute_reply.started": "2021-12-12T14:45:08.440611Z"
    }
   },
   "outputs": [],
   "source": [
    "def load_data_for_patient(p_id, label, image_type, resize=True, size=256):\n",
    "    \n",
    "    image_data = []\n",
    "    image_labels = []\n",
    "    files = os.listdir(os.path.join(train_images_path, p_id, image_type))\n",
    "    \n",
    "    for f in range(0, len(files), 3):\n",
    "        dicom_image = dcmread(os.path.join(train_images_path, p_id, image_type, files[f]))\n",
    "        pixel_array = dicom_image.pixel_array[80:400, 100:420]\n",
    "        \n",
    "            \n",
    "        if np.max(pixel_array) == 0: #Blank image\n",
    "            continue \n",
    "        else:\n",
    "\n",
    "            if(resize == True):\n",
    "                pixel_array = cv2.resize(pixel_array, (size, size))\n",
    "                \n",
    "            pixel_array = np.array(pixel_array, dtype = float)\n",
    "            pixel_array /= 4095\n",
    "            pixel_array = list(pixel_array)\n",
    "            \n",
    "            image_data.append(pixel_array)\n",
    "            image_labels.append(label)\n",
    "    \n",
    "    image_data_array = np.array(image_data)\n",
    "    image_labels_array = np.array(image_labels)\n",
    "    del files\n",
    "    del image_data\n",
    "    del image_labels\n",
    "    gc.collect()\n",
    "    #print('Max Pixel Value: ', max_p)\n",
    "#     print(image_data_array.shape)\n",
    "    return image_data_array, image_labels_array"
   ]
  },
  {
   "cell_type": "code",
   "execution_count": 9,
   "metadata": {
    "execution": {
     "iopub.execute_input": "2021-12-12T14:45:11.750476Z",
     "iopub.status.busy": "2021-12-12T14:45:11.749999Z",
     "iopub.status.idle": "2021-12-12T14:45:11.757876Z",
     "shell.execute_reply": "2021-12-12T14:45:11.756809Z",
     "shell.execute_reply.started": "2021-12-12T14:45:11.750436Z"
    }
   },
   "outputs": [],
   "source": [
    "def load_train_data(image_type, image_size):\n",
    "    train_data = np.empty((0,image_size,image_size), dtype=float)\n",
    "    train_labels = np.empty((0), dtype=int)\n",
    "    train_labels_df =  pd.read_csv(train_labels_path, dtype={'BraTS21ID': str})\n",
    "    \n",
    "    for index, patient in train_labels_df.iterrows():\n",
    "        image_data, image_labels = load_data_for_patient(patient['BraTS21ID'], patient['MGMT_value'], image_type, resize=True, size=image_size)\n",
    "        if(image_data.shape[0] > 0):\n",
    "            train_data = np.append(train_data, image_data, axis=0)\n",
    "            train_labels = np.append(train_labels, image_labels, axis=0)\n",
    "            \n",
    "        del image_data\n",
    "        del image_labels\n",
    "        gc.collect()\n",
    "        \n",
    "#     print(train_data.shape)\n",
    "#     print(train_labels.shape)\n",
    "    return train_data, train_labels\n",
    "    "
   ]
  },
  {
   "cell_type": "code",
   "execution_count": 11,
   "metadata": {
    "execution": {
     "iopub.execute_input": "2021-12-12T14:45:15.235713Z",
     "iopub.status.busy": "2021-12-12T14:45:15.235445Z",
     "iopub.status.idle": "2021-12-12T14:56:44.749804Z",
     "shell.execute_reply": "2021-12-12T14:56:44.749018Z",
     "shell.execute_reply.started": "2021-12-12T14:45:15.235684Z"
    },
    "scrolled": true
   },
   "outputs": [
    {
     "name": "stdout",
     "output_type": "stream",
     "text": [
      "done\n"
     ]
    }
   ],
   "source": [
    "train_data, train_labels = load_train_data('FLAIR', IMAGE_SIZE)\n",
    "X_train, X_test, y_train, y_test = train_test_split(train_data, train_labels, test_size=0.2, random_state=42)"
   ]
  },
  {
   "cell_type": "code",
   "execution_count": 129,
   "metadata": {},
   "outputs": [
    {
     "name": "stdout",
     "output_type": "stream",
     "text": [
      "Epoch 1/100\n",
      "355/355 - 27s - loss: 0.6729 - accuracy: 0.5868 - val_loss: 0.6668 - val_accuracy: 0.5994 - 27s/epoch - 77ms/step\n",
      "Epoch 2/100\n",
      "355/355 - 25s - loss: 0.6633 - accuracy: 0.6006 - val_loss: 0.6606 - val_accuracy: 0.5973 - 25s/epoch - 71ms/step\n",
      "Epoch 3/100\n",
      "355/355 - 25s - loss: 0.6602 - accuracy: 0.6034 - val_loss: 0.6588 - val_accuracy: 0.6100 - 25s/epoch - 70ms/step\n",
      "Epoch 4/100\n",
      "355/355 - 25s - loss: 0.6573 - accuracy: 0.6114 - val_loss: 0.6572 - val_accuracy: 0.6157 - 25s/epoch - 70ms/step\n",
      "Epoch 5/100\n",
      "355/355 - 25s - loss: 0.6519 - accuracy: 0.6158 - val_loss: 0.6479 - val_accuracy: 0.6199 - 25s/epoch - 70ms/step\n",
      "Epoch 6/100\n",
      "355/355 - 25s - loss: 0.6501 - accuracy: 0.6183 - val_loss: 0.6444 - val_accuracy: 0.6336 - 25s/epoch - 70ms/step\n",
      "Epoch 7/100\n",
      "355/355 - 25s - loss: 0.6418 - accuracy: 0.6276 - val_loss: 0.6485 - val_accuracy: 0.6241 - 25s/epoch - 70ms/step\n",
      "Epoch 8/100\n",
      "355/355 - 25s - loss: 0.6361 - accuracy: 0.6355 - val_loss: 0.6356 - val_accuracy: 0.6358 - 25s/epoch - 70ms/step\n",
      "Epoch 9/100\n",
      "355/355 - 25s - loss: 0.6280 - accuracy: 0.6404 - val_loss: 0.6264 - val_accuracy: 0.6417 - 25s/epoch - 71ms/step\n",
      "Epoch 10/100\n",
      "355/355 - 26s - loss: 0.6257 - accuracy: 0.6362 - val_loss: 0.6271 - val_accuracy: 0.6389 - 26s/epoch - 74ms/step\n",
      "Epoch 11/100\n",
      "355/355 - 26s - loss: 0.6148 - accuracy: 0.6486 - val_loss: 0.6239 - val_accuracy: 0.6435 - 26s/epoch - 72ms/step\n",
      "Epoch 12/100\n",
      "355/355 - 26s - loss: 0.6073 - accuracy: 0.6535 - val_loss: 0.6103 - val_accuracy: 0.6509 - 26s/epoch - 72ms/step\n",
      "Epoch 13/100\n",
      "355/355 - 25s - loss: 0.5971 - accuracy: 0.6610 - val_loss: 0.6135 - val_accuracy: 0.6513 - 25s/epoch - 71ms/step\n",
      "Epoch 14/100\n",
      "355/355 - 25s - loss: 0.5872 - accuracy: 0.6718 - val_loss: 0.5995 - val_accuracy: 0.6678 - 25s/epoch - 71ms/step\n",
      "Epoch 15/100\n",
      "355/355 - 25s - loss: 0.5779 - accuracy: 0.6842 - val_loss: 0.5889 - val_accuracy: 0.6618 - 25s/epoch - 72ms/step\n",
      "Epoch 16/100\n",
      "355/355 - 25s - loss: 0.5698 - accuracy: 0.6844 - val_loss: 0.5833 - val_accuracy: 0.6696 - 25s/epoch - 71ms/step\n",
      "Epoch 17/100\n",
      "355/355 - 25s - loss: 0.5610 - accuracy: 0.6911 - val_loss: 0.5739 - val_accuracy: 0.6802 - 25s/epoch - 72ms/step\n",
      "Epoch 18/100\n",
      "355/355 - 25s - loss: 0.5516 - accuracy: 0.6969 - val_loss: 0.5716 - val_accuracy: 0.6745 - 25s/epoch - 70ms/step\n",
      "Epoch 19/100\n",
      "355/355 - 25s - loss: 0.5425 - accuracy: 0.7031 - val_loss: 0.5495 - val_accuracy: 0.6911 - 25s/epoch - 70ms/step\n",
      "Epoch 20/100\n",
      "355/355 - 25s - loss: 0.5275 - accuracy: 0.7161 - val_loss: 0.5557 - val_accuracy: 0.6943 - 25s/epoch - 70ms/step\n",
      "Epoch 21/100\n",
      "355/355 - 25s - loss: 0.5209 - accuracy: 0.7193 - val_loss: 0.5385 - val_accuracy: 0.6996 - 25s/epoch - 70ms/step\n",
      "Epoch 22/100\n",
      "355/355 - 25s - loss: 0.5053 - accuracy: 0.7282 - val_loss: 0.5577 - val_accuracy: 0.6869 - 25s/epoch - 70ms/step\n",
      "Epoch 23/100\n",
      "355/355 - 25s - loss: 0.4951 - accuracy: 0.7351 - val_loss: 0.5340 - val_accuracy: 0.7077 - 25s/epoch - 71ms/step\n",
      "Epoch 24/100\n",
      "355/355 - 25s - loss: 0.4922 - accuracy: 0.7335 - val_loss: 0.5432 - val_accuracy: 0.7003 - 25s/epoch - 70ms/step\n",
      "Epoch 25/100\n",
      "355/355 - 25s - loss: 0.4769 - accuracy: 0.7451 - val_loss: 0.5296 - val_accuracy: 0.7063 - 25s/epoch - 70ms/step\n",
      "Epoch 26/100\n",
      "355/355 - 25s - loss: 0.4695 - accuracy: 0.7504 - val_loss: 0.5191 - val_accuracy: 0.7144 - 25s/epoch - 70ms/step\n",
      "Epoch 27/100\n",
      "355/355 - 25s - loss: 0.4616 - accuracy: 0.7552 - val_loss: 0.5078 - val_accuracy: 0.7218 - 25s/epoch - 70ms/step\n",
      "Epoch 28/100\n",
      "355/355 - 25s - loss: 0.4463 - accuracy: 0.7640 - val_loss: 0.5199 - val_accuracy: 0.7179 - 25s/epoch - 71ms/step\n",
      "Epoch 29/100\n",
      "355/355 - 25s - loss: 0.4401 - accuracy: 0.7681 - val_loss: 0.5014 - val_accuracy: 0.7267 - 25s/epoch - 70ms/step\n",
      "Epoch 30/100\n",
      "355/355 - 25s - loss: 0.4275 - accuracy: 0.7729 - val_loss: 0.5008 - val_accuracy: 0.7257 - 25s/epoch - 70ms/step\n",
      "Epoch 31/100\n",
      "355/355 - 25s - loss: 0.4274 - accuracy: 0.7714 - val_loss: 0.4865 - val_accuracy: 0.7331 - 25s/epoch - 70ms/step\n",
      "Epoch 32/100\n",
      "355/355 - 25s - loss: 0.4088 - accuracy: 0.7836 - val_loss: 0.4866 - val_accuracy: 0.7331 - 25s/epoch - 71ms/step\n",
      "Epoch 33/100\n",
      "355/355 - 25s - loss: 0.4053 - accuracy: 0.7866 - val_loss: 0.4883 - val_accuracy: 0.7451 - 25s/epoch - 70ms/step\n",
      "Epoch 34/100\n",
      "355/355 - 25s - loss: 0.3975 - accuracy: 0.7904 - val_loss: 0.5055 - val_accuracy: 0.7362 - 25s/epoch - 71ms/step\n",
      "Epoch 35/100\n",
      "355/355 - 25s - loss: 0.3917 - accuracy: 0.7950 - val_loss: 0.4987 - val_accuracy: 0.7348 - 25s/epoch - 71ms/step\n",
      "Epoch 36/100\n",
      "355/355 - 25s - loss: 0.3866 - accuracy: 0.7984 - val_loss: 0.4701 - val_accuracy: 0.7482 - 25s/epoch - 71ms/step\n",
      "Epoch 37/100\n",
      "355/355 - 25s - loss: 0.3828 - accuracy: 0.7973 - val_loss: 0.4778 - val_accuracy: 0.7493 - 25s/epoch - 71ms/step\n",
      "Epoch 38/100\n",
      "355/355 - 25s - loss: 0.3688 - accuracy: 0.8058 - val_loss: 0.4841 - val_accuracy: 0.7412 - 25s/epoch - 71ms/step\n",
      "Epoch 39/100\n",
      "355/355 - 25s - loss: 0.3700 - accuracy: 0.8039 - val_loss: 0.4779 - val_accuracy: 0.7535 - 25s/epoch - 71ms/step\n",
      "Epoch 40/100\n",
      "355/355 - 25s - loss: 0.3604 - accuracy: 0.8113 - val_loss: 0.4827 - val_accuracy: 0.7479 - 25s/epoch - 71ms/step\n",
      "Epoch 41/100\n",
      "355/355 - 25s - loss: 0.3509 - accuracy: 0.8149 - val_loss: 0.4980 - val_accuracy: 0.7465 - 25s/epoch - 71ms/step\n",
      "Epoch 42/100\n",
      "355/355 - 26s - loss: 0.3474 - accuracy: 0.8181 - val_loss: 0.4737 - val_accuracy: 0.7652 - 26s/epoch - 72ms/step\n",
      "Epoch 43/100\n",
      "355/355 - 26s - loss: 0.3397 - accuracy: 0.8214 - val_loss: 0.4857 - val_accuracy: 0.7553 - 26s/epoch - 72ms/step\n",
      "Epoch 44/100\n",
      "355/355 - 25s - loss: 0.3330 - accuracy: 0.8230 - val_loss: 0.4785 - val_accuracy: 0.7567 - 25s/epoch - 71ms/step\n",
      "Epoch 45/100\n",
      "355/355 - 25s - loss: 0.3320 - accuracy: 0.8236 - val_loss: 0.4702 - val_accuracy: 0.7578 - 25s/epoch - 71ms/step\n",
      "Epoch 46/100\n",
      "355/355 - 26s - loss: 0.3333 - accuracy: 0.8208 - val_loss: 0.4797 - val_accuracy: 0.7669 - 26s/epoch - 72ms/step\n",
      "Epoch 47/100\n",
      "355/355 - 26s - loss: 0.3272 - accuracy: 0.8252 - val_loss: 0.4625 - val_accuracy: 0.7673 - 26s/epoch - 72ms/step\n",
      "Epoch 48/100\n",
      "355/355 - 25s - loss: 0.3215 - accuracy: 0.8283 - val_loss: 0.4677 - val_accuracy: 0.7652 - 25s/epoch - 71ms/step\n",
      "Epoch 49/100\n",
      "355/355 - 25s - loss: 0.3135 - accuracy: 0.8338 - val_loss: 0.4882 - val_accuracy: 0.7620 - 25s/epoch - 72ms/step\n",
      "Epoch 50/100\n",
      "355/355 - 25s - loss: 0.3108 - accuracy: 0.8345 - val_loss: 0.5014 - val_accuracy: 0.7627 - 25s/epoch - 70ms/step\n",
      "Epoch 51/100\n",
      "355/355 - 25s - loss: 0.3059 - accuracy: 0.8393 - val_loss: 0.4644 - val_accuracy: 0.7676 - 25s/epoch - 70ms/step\n",
      "Epoch 52/100\n",
      "355/355 - 25s - loss: 0.3001 - accuracy: 0.8411 - val_loss: 0.4675 - val_accuracy: 0.7680 - 25s/epoch - 72ms/step\n",
      "Epoch 53/100\n",
      "355/355 - 25s - loss: 0.3078 - accuracy: 0.8398 - val_loss: 0.4761 - val_accuracy: 0.7652 - 25s/epoch - 70ms/step\n",
      "Epoch 54/100\n",
      "355/355 - 25s - loss: 0.2966 - accuracy: 0.8428 - val_loss: 0.4604 - val_accuracy: 0.7796 - 25s/epoch - 70ms/step\n",
      "Epoch 55/100\n",
      "355/355 - 25s - loss: 0.2901 - accuracy: 0.8443 - val_loss: 0.4767 - val_accuracy: 0.7747 - 25s/epoch - 71ms/step\n",
      "Epoch 56/100\n",
      "355/355 - 25s - loss: 0.3021 - accuracy: 0.8401 - val_loss: 0.4920 - val_accuracy: 0.7680 - 25s/epoch - 71ms/step\n",
      "Epoch 57/100\n",
      "355/355 - 25s - loss: 0.3028 - accuracy: 0.8413 - val_loss: 0.4689 - val_accuracy: 0.7712 - 25s/epoch - 71ms/step\n",
      "Epoch 58/100\n",
      "355/355 - 25s - loss: 0.2800 - accuracy: 0.8517 - val_loss: 0.4819 - val_accuracy: 0.7715 - 25s/epoch - 71ms/step\n",
      "Epoch 59/100\n",
      "355/355 - 25s - loss: 0.2842 - accuracy: 0.8510 - val_loss: 0.4750 - val_accuracy: 0.7810 - 25s/epoch - 71ms/step\n",
      "Epoch 60/100\n",
      "355/355 - 25s - loss: 0.2803 - accuracy: 0.8529 - val_loss: 0.4713 - val_accuracy: 0.7764 - 25s/epoch - 72ms/step\n",
      "Epoch 61/100\n",
      "355/355 - 26s - loss: 0.2746 - accuracy: 0.8534 - val_loss: 0.4880 - val_accuracy: 0.7708 - 26s/epoch - 73ms/step\n",
      "Epoch 62/100\n",
      "355/355 - 25s - loss: 0.2738 - accuracy: 0.8546 - val_loss: 0.4752 - val_accuracy: 0.7831 - 25s/epoch - 71ms/step\n",
      "Epoch 63/100\n",
      "355/355 - 25s - loss: 0.2862 - accuracy: 0.8484 - val_loss: 0.4810 - val_accuracy: 0.7747 - 25s/epoch - 70ms/step\n",
      "Epoch 64/100\n",
      "355/355 - 25s - loss: 0.2799 - accuracy: 0.8551 - val_loss: 0.4668 - val_accuracy: 0.7902 - 25s/epoch - 70ms/step\n",
      "Epoch 65/100\n",
      "355/355 - 25s - loss: 0.2744 - accuracy: 0.8546 - val_loss: 0.4723 - val_accuracy: 0.7828 - 25s/epoch - 70ms/step\n"
     ]
    },
    {
     "name": "stdout",
     "output_type": "stream",
     "text": [
      "Epoch 66/100\n",
      "355/355 - 25s - loss: 0.2648 - accuracy: 0.8598 - val_loss: 0.4441 - val_accuracy: 0.7846 - 25s/epoch - 70ms/step\n",
      "Epoch 67/100\n",
      "355/355 - 25s - loss: 0.2588 - accuracy: 0.8595 - val_loss: 0.4935 - val_accuracy: 0.7747 - 25s/epoch - 70ms/step\n",
      "Epoch 68/100\n",
      "355/355 - 25s - loss: 0.2669 - accuracy: 0.8574 - val_loss: 0.4913 - val_accuracy: 0.7821 - 25s/epoch - 70ms/step\n",
      "Epoch 69/100\n",
      "355/355 - 25s - loss: 0.2532 - accuracy: 0.8661 - val_loss: 0.4813 - val_accuracy: 0.7750 - 25s/epoch - 70ms/step\n",
      "Epoch 70/100\n",
      "355/355 - 25s - loss: 0.2570 - accuracy: 0.8621 - val_loss: 0.4508 - val_accuracy: 0.7884 - 25s/epoch - 70ms/step\n",
      "Epoch 71/100\n",
      "355/355 - 25s - loss: 0.2727 - accuracy: 0.8554 - val_loss: 0.4725 - val_accuracy: 0.7821 - 25s/epoch - 70ms/step\n",
      "Epoch 72/100\n",
      "355/355 - 25s - loss: 0.2537 - accuracy: 0.8662 - val_loss: 0.4779 - val_accuracy: 0.7761 - 25s/epoch - 69ms/step\n",
      "Epoch 73/100\n",
      "355/355 - 25s - loss: 0.2495 - accuracy: 0.8648 - val_loss: 0.4690 - val_accuracy: 0.7842 - 25s/epoch - 71ms/step\n",
      "Epoch 74/100\n",
      "355/355 - 25s - loss: 0.2584 - accuracy: 0.8636 - val_loss: 0.4765 - val_accuracy: 0.7898 - 25s/epoch - 71ms/step\n",
      "Epoch 75/100\n",
      "355/355 - 26s - loss: 0.2519 - accuracy: 0.8650 - val_loss: 0.5118 - val_accuracy: 0.7733 - 26s/epoch - 72ms/step\n",
      "Epoch 76/100\n",
      "355/355 - 25s - loss: 0.2442 - accuracy: 0.8680 - val_loss: 0.4719 - val_accuracy: 0.7870 - 25s/epoch - 70ms/step\n",
      "Epoch 77/100\n",
      "355/355 - 25s - loss: 0.2281 - accuracy: 0.8774 - val_loss: 0.4987 - val_accuracy: 0.7839 - 25s/epoch - 70ms/step\n",
      "Epoch 78/100\n",
      "355/355 - 25s - loss: 0.2380 - accuracy: 0.8743 - val_loss: 0.4905 - val_accuracy: 0.7913 - 25s/epoch - 71ms/step\n",
      "Epoch 79/100\n",
      "355/355 - 25s - loss: 0.2654 - accuracy: 0.8605 - val_loss: 0.4930 - val_accuracy: 0.7846 - 25s/epoch - 72ms/step\n",
      "Epoch 80/100\n",
      "355/355 - 25s - loss: 0.2375 - accuracy: 0.8738 - val_loss: 0.5335 - val_accuracy: 0.7821 - 25s/epoch - 69ms/step\n",
      "Epoch 81/100\n",
      "355/355 - 25s - loss: 0.2461 - accuracy: 0.8698 - val_loss: 0.4823 - val_accuracy: 0.7906 - 25s/epoch - 69ms/step\n",
      "Epoch 82/100\n",
      "355/355 - 25s - loss: 0.2328 - accuracy: 0.8742 - val_loss: 0.4744 - val_accuracy: 0.7906 - 25s/epoch - 70ms/step\n",
      "Epoch 83/100\n",
      "355/355 - 25s - loss: 0.2390 - accuracy: 0.8752 - val_loss: 0.4675 - val_accuracy: 0.8025 - 25s/epoch - 71ms/step\n",
      "Epoch 84/100\n",
      "355/355 - 25s - loss: 0.2221 - accuracy: 0.8771 - val_loss: 0.5117 - val_accuracy: 0.7817 - 25s/epoch - 70ms/step\n",
      "Epoch 85/100\n",
      "355/355 - 25s - loss: 0.2347 - accuracy: 0.8739 - val_loss: 0.5180 - val_accuracy: 0.7846 - 25s/epoch - 72ms/step\n",
      "Epoch 86/100\n",
      "355/355 - 25s - loss: 0.2507 - accuracy: 0.8721 - val_loss: 0.4759 - val_accuracy: 0.7920 - 25s/epoch - 70ms/step\n",
      "Epoch 87/100\n",
      "355/355 - 25s - loss: 0.2182 - accuracy: 0.8845 - val_loss: 0.5025 - val_accuracy: 0.7877 - 25s/epoch - 69ms/step\n",
      "Epoch 88/100\n",
      "355/355 - 25s - loss: 0.2240 - accuracy: 0.8810 - val_loss: 0.4681 - val_accuracy: 0.7997 - 25s/epoch - 71ms/step\n",
      "Epoch 89/100\n",
      "355/355 - 26s - loss: 0.2186 - accuracy: 0.8812 - val_loss: 0.5151 - val_accuracy: 0.7895 - 26s/epoch - 72ms/step\n",
      "Epoch 90/100\n",
      "355/355 - 26s - loss: 0.2355 - accuracy: 0.8755 - val_loss: 0.5437 - val_accuracy: 0.7839 - 26s/epoch - 73ms/step\n",
      "Epoch 91/100\n",
      "355/355 - 26s - loss: 0.2281 - accuracy: 0.8791 - val_loss: 0.5094 - val_accuracy: 0.7881 - 26s/epoch - 73ms/step\n",
      "Epoch 92/100\n",
      "355/355 - 25s - loss: 0.2280 - accuracy: 0.8779 - val_loss: 0.4797 - val_accuracy: 0.7980 - 25s/epoch - 70ms/step\n",
      "Epoch 93/100\n",
      "355/355 - 25s - loss: 0.2061 - accuracy: 0.8876 - val_loss: 0.5145 - val_accuracy: 0.7930 - 25s/epoch - 71ms/step\n",
      "Epoch 94/100\n",
      "355/355 - 25s - loss: 0.2247 - accuracy: 0.8804 - val_loss: 0.5533 - val_accuracy: 0.7874 - 25s/epoch - 71ms/step\n",
      "Epoch 95/100\n",
      "355/355 - 25s - loss: 0.2322 - accuracy: 0.8779 - val_loss: 0.4742 - val_accuracy: 0.8061 - 25s/epoch - 70ms/step\n",
      "Epoch 96/100\n",
      "355/355 - 25s - loss: 0.2046 - accuracy: 0.8858 - val_loss: 0.4608 - val_accuracy: 0.8018 - 25s/epoch - 71ms/step\n",
      "Epoch 97/100\n",
      "355/355 - 25s - loss: 0.2256 - accuracy: 0.8842 - val_loss: 0.4898 - val_accuracy: 0.7888 - 25s/epoch - 70ms/step\n",
      "Epoch 98/100\n",
      "355/355 - 25s - loss: 0.2100 - accuracy: 0.8878 - val_loss: 0.4729 - val_accuracy: 0.8075 - 25s/epoch - 70ms/step\n",
      "Epoch 99/100\n",
      "355/355 - 25s - loss: 0.2237 - accuracy: 0.8806 - val_loss: 0.4899 - val_accuracy: 0.7881 - 25s/epoch - 70ms/step\n",
      "Epoch 100/100\n",
      "355/355 - 25s - loss: 0.2375 - accuracy: 0.8784 - val_loss: 0.4969 - val_accuracy: 0.7980 - 25s/epoch - 70ms/step\n"
     ]
    }
   ],
   "source": [
    "model2 = tf.keras.Sequential([\n",
    "        tf.keras.layers.Bidirectional(LSTM(128), merge_mode='concat'),\n",
    "        tf.keras.layers.Dense(64, activation='relu'), # FC layer for the classification part\n",
    "        tf.keras.layers.Dense(64, activation='relu'), # FC layer for the classification part\n",
    "        tf.keras.layers.Dense(1, activation='sigmoid') # final FC layer\n",
    "        ])\n",
    "\n",
    "model2.compile(\n",
    "        loss=tf.keras.losses.BinaryCrossentropy(from_logits=True),\n",
    "        optimizer=tf.keras.optimizers.Adam(1e-4),\n",
    "        metrics=['accuracy'])\n",
    "\n",
    "epochs = 100\n",
    "history2 = model2.fit(\n",
    "        X_train, y_train,\n",
    "        batch_size=32,\n",
    "        validation_split=0.2,\n",
    "        epochs=epochs,\n",
    "        shuffle=True,\n",
    "        verbose=2)"
   ]
  },
  {
   "cell_type": "code",
   "execution_count": 130,
   "metadata": {},
   "outputs": [
    {
     "name": "stdout",
     "output_type": "stream",
     "text": [
      "111/111 - 3s - loss: 0.5370 - accuracy: 0.7873 - 3s/epoch - 26ms/step\n"
     ]
    },
    {
     "data": {
      "text/plain": [
       "[0.5369831919670105, 0.7873060703277588]"
      ]
     },
     "execution_count": 130,
     "metadata": {},
     "output_type": "execute_result"
    }
   ],
   "source": [
    "model2.evaluate(X_test, y_test, batch_size=32, verbose=2)"
   ]
  },
  {
   "cell_type": "code",
   "execution_count": 131,
   "metadata": {},
   "outputs": [
    {
     "data": {
      "image/png": "[encoded data removed]",
      "text/plain": [
       "<Figure size 720x216 with 2 Axes>"
      ]
     },
     "metadata": {
      "needs_background": "light"
     },
     "output_type": "display_data"
    }
   ],
   "source": [
    "fig, ax = plt.subplots(ncols=2, figsize=(12, 3))\n",
    "# results[[\"Train Loss\", \"Test Loss\"]].plot(ax=ax[0])\n",
    "# results[[\"Train Accuracy\", \"Test Accuracy\"]].plot(ax=ax[1])\n",
    "\n",
    "ax[0].plot(history2.history['loss'])\n",
    "ax[0].plot(history2.history['val_loss'])\n",
    "ax[0].set_xlabel(\"Epoch\")\n",
    "ax[0].set_ylabel(\"Loss\")\n",
    "\n",
    "ax[1].plot(history1.history['accuracy'])\n",
    "ax[1].plot(history1.history['val_accuracy'])\n",
    "ax[1].set_xlabel(\"Epoch\")\n",
    "ax[1].set_ylabel(\"Accuracy\")\n",
    "plt.show()"
   ]
  },
  {
   "cell_type": "code",
   "execution_count": null,
   "metadata": {},
   "outputs": [],
   "source": [
    "model2.summary()"
   ]
  }
 ],
 "metadata": {
  "kernelspec": {
   "display_name": "Python 3 (ipykernel)",
   "language": "python",
   "name": "python3"
  },
  "language_info": {
   "codemirror_mode": {
    "name": "ipython",
    "version": 3
   },
   "file_extension": ".py",
   "mimetype": "text/x-python",
   "name": "python",
   "nbconvert_exporter": "python",
   "pygments_lexer": "ipython3",
   "version": "3.8.12"
  }
 },
 "nbformat": 4,
 "nbformat_minor": 4
}
