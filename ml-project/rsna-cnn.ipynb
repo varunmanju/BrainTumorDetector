{
 "cells": [
  {
   "cell_type": "code",
   "execution_count": 1,
   "metadata": {
    "execution": {
     "iopub.execute_input": "2021-12-12T14:44:49.231822Z",
     "iopub.status.busy": "2021-12-12T14:44:49.231024Z",
     "iopub.status.idle": "2021-12-12T14:44:55.607294Z",
     "shell.execute_reply": "2021-12-12T14:44:55.606433Z",
     "shell.execute_reply.started": "2021-12-12T14:44:49.231775Z"
    }
   },
   "outputs": [
    {
     "ename": "ModuleNotFoundError",
     "evalue": "No module named 'pydicom'",
     "output_type": "error",
     "traceback": [
      "\u001b[0;31m---------------------------------------------------------------------------\u001b[0m",
      "\u001b[0;31mModuleNotFoundError\u001b[0m                       Traceback (most recent call last)",
      "\u001b[0;32m<ipython-input-1-32a4890bcf1c>\u001b[0m in \u001b[0;36m<module>\u001b[0;34m\u001b[0m\n\u001b[1;32m      4\u001b[0m \u001b[0;32mimport\u001b[0m \u001b[0mmatplotlib\u001b[0m\u001b[0;34m.\u001b[0m\u001b[0mpyplot\u001b[0m \u001b[0;32mas\u001b[0m \u001b[0mplt\u001b[0m\u001b[0;34m\u001b[0m\u001b[0;34m\u001b[0m\u001b[0m\n\u001b[1;32m      5\u001b[0m \u001b[0;34m\u001b[0m\u001b[0m\n\u001b[0;32m----> 6\u001b[0;31m \u001b[0;32mfrom\u001b[0m \u001b[0mpydicom\u001b[0m \u001b[0;32mimport\u001b[0m \u001b[0mdcmread\u001b[0m\u001b[0;34m\u001b[0m\u001b[0;34m\u001b[0m\u001b[0m\n\u001b[0m\u001b[1;32m      7\u001b[0m \u001b[0;32mfrom\u001b[0m \u001b[0mpydicom\u001b[0m\u001b[0;34m.\u001b[0m\u001b[0mdata\u001b[0m \u001b[0;32mimport\u001b[0m \u001b[0mget_testdata_file\u001b[0m\u001b[0;34m\u001b[0m\u001b[0;34m\u001b[0m\u001b[0m\n\u001b[1;32m      8\u001b[0m \u001b[0;34m\u001b[0m\u001b[0m\n",
      "\u001b[0;31mModuleNotFoundError\u001b[0m: No module named 'pydicom'"
     ]
    }
   ],
   "source": [
    "import numpy as np \n",
    "import pandas as pd\n",
    "\n",
    "import matplotlib.pyplot as plt\n",
    "\n",
    "from pydicom import dcmread\n",
    "from pydicom.data import get_testdata_file\n",
    "\n",
    "from tensorflow import keras\n",
    "from sklearn.model_selection import train_test_split\n",
    "from tensorflow.keras import layers\n",
    "from tensorflow.keras import Model\n",
    "from sklearn.metrics import roc_auc_score\n",
    "from tensorflow.keras.metrics import AUC\n",
    "from tensorflow.keras.preprocessing.image import ImageDataGenerator\n",
    "\n",
    "\n",
    "import cv2\n",
    "\n",
    "import os\n",
    "import sys\n",
    "import gc"
   ]
  },
  {
   "cell_type": "code",
   "execution_count": null,
   "metadata": {
    "execution": {
     "iopub.execute_input": "2021-12-12T14:44:58.015868Z",
     "iopub.status.busy": "2021-12-12T14:44:58.015363Z",
     "iopub.status.idle": "2021-12-12T14:44:58.022934Z",
     "shell.execute_reply": "2021-12-12T14:44:58.021572Z",
     "shell.execute_reply.started": "2021-12-12T14:44:58.015829Z"
    }
   },
   "outputs": [],
   "source": [
    "root_data_path = '../input/rsna-miccai-brain-tumor-radiogenomic-classification'\n",
    "train_images_path = root_data_path + '/train'\n",
    "test_images_path = root_data_path + '/test'\n",
    "train_labels_path = root_data_path + '/train_labels.csv'"
   ]
  },
  {
   "cell_type": "code",
   "execution_count": 13,
   "metadata": {
    "execution": {
     "iopub.execute_input": "2021-12-12T14:45:01.175819Z",
     "iopub.status.busy": "2021-12-12T14:45:01.175331Z",
     "iopub.status.idle": "2021-12-12T14:45:01.179085Z",
     "shell.execute_reply": "2021-12-12T14:45:01.178391Z",
     "shell.execute_reply.started": "2021-12-12T14:45:01.175781Z"
    }
   },
   "outputs": [],
   "source": [
    "IMAGE_SIZE = 128"
   ]
  },
  {
   "cell_type": "code",
   "execution_count": 15,
   "metadata": {
    "execution": {
     "iopub.execute_input": "2021-12-12T14:45:08.440640Z",
     "iopub.status.busy": "2021-12-12T14:45:08.440378Z",
     "iopub.status.idle": "2021-12-12T14:45:08.449670Z",
     "shell.execute_reply": "2021-12-12T14:45:08.448824Z",
     "shell.execute_reply.started": "2021-12-12T14:45:08.440611Z"
    }
   },
   "outputs": [],
   "source": [
    "def load_data_for_patient(p_id, label, image_type, resize=True, size=256):\n",
    "    \n",
    "    image_data = []\n",
    "    image_labels = []\n",
    "    files = os.listdir(os.path.join(train_images_path, p_id, image_type))\n",
    "    \n",
    "    for f in range(0, len(files), 3):\n",
    "        dicom_image = dcmread(os.path.join(train_images_path, p_id, image_type, files[f]))\n",
    "        pixel_array = dicom_image.pixel_array[80:400, 100:420]\n",
    "        \n",
    "            \n",
    "        if np.max(pixel_array) == 0: #Blank image\n",
    "            continue \n",
    "        else:\n",
    "\n",
    "            if(resize == True):\n",
    "                pixel_array = cv2.resize(pixel_array, (size, size))\n",
    "                \n",
    "            pixel_array = np.array(pixel_array, dtype = float)\n",
    "            pixel_array /= 4095\n",
    "            pixel_array = list(pixel_array)\n",
    "            \n",
    "            image_data.append(pixel_array)\n",
    "            image_labels.append(label)\n",
    "    \n",
    "    image_data_array = np.array(image_data)\n",
    "    image_labels_array = np.array(image_labels)\n",
    "    del files\n",
    "    del image_data\n",
    "    del image_labels\n",
    "    gc.collect()\n",
    "    #print('Max Pixel Value: ', max_p)\n",
    "    print(image_data_array.shape)\n",
    "    return image_data_array, image_labels_array"
   ]
  },
  {
   "cell_type": "code",
   "execution_count": 16,
   "metadata": {
    "execution": {
     "iopub.execute_input": "2021-12-12T14:45:11.750476Z",
     "iopub.status.busy": "2021-12-12T14:45:11.749999Z",
     "iopub.status.idle": "2021-12-12T14:45:11.757876Z",
     "shell.execute_reply": "2021-12-12T14:45:11.756809Z",
     "shell.execute_reply.started": "2021-12-12T14:45:11.750436Z"
    }
   },
   "outputs": [],
   "source": [
    "def load_train_data(image_type, image_size):\n",
    "    train_data = np.empty((0,image_size,image_size), dtype=float)\n",
    "    train_labels = np.empty((0), dtype=int)\n",
    "    train_labels_df =  pd.read_csv(train_labels_path, dtype={'BraTS21ID': str})\n",
    "    \n",
    "    for index, patient in train_labels_df.iterrows():\n",
    "        image_data, image_labels = load_data_for_patient(patient['BraTS21ID'], patient['MGMT_value'], image_type, resize=True, size=image_size)\n",
    "        if(image_data.shape[0] > 0):\n",
    "            train_data = np.append(train_data, image_data, axis=0)\n",
    "            train_labels = np.append(train_labels, image_labels, axis=0)\n",
    "            \n",
    "        del image_data\n",
    "        del image_labels\n",
    "        gc.collect()\n",
    "        \n",
    "    print(train_data.shape)\n",
    "    print(train_labels.shape)\n",
    "    return train_data, train_labels\n",
    "    "
   ]
  },
  {
   "cell_type": "code",
   "execution_count": 17,
   "metadata": {
    "execution": {
     "iopub.execute_input": "2021-12-12T14:45:15.235713Z",
     "iopub.status.busy": "2021-12-12T14:45:15.235445Z",
     "iopub.status.idle": "2021-12-12T14:56:44.749804Z",
     "shell.execute_reply": "2021-12-12T14:56:44.749018Z",
     "shell.execute_reply.started": "2021-12-12T14:45:15.235684Z"
    },
    "scrolled": true
   },
   "outputs": [],
   "source": [
    "train_data, train_labels = load_train_data('FLAIR', IMAGE_SIZE)\n",
    "X_train, X_test, y_train, y_test = train_test_split(train_data, train_labels, test_size=0.2, random_state=42)"
   ]
  },
  {
   "cell_type": "code",
   "execution_count": null,
   "metadata": {
    "execution": {
     "iopub.execute_input": "2021-12-12T13:45:16.714315Z",
     "iopub.status.busy": "2021-12-12T13:45:16.713996Z",
     "iopub.status.idle": "2021-12-12T13:45:16.868393Z",
     "shell.execute_reply": "2021-12-12T13:45:16.867356Z",
     "shell.execute_reply.started": "2021-12-12T13:45:16.714282Z"
    }
   },
   "outputs": [],
   "source": [
    "#ran - 0.9954, 0.8604\n",
    "def get_model(image_size):\n",
    "    img_input = keras.Input(shape=(image_size, image_size, 1))\n",
    "    \n",
    "    x = layers.Conv2D(filters = 16, kernel_size=3, activation='relu')(img_input)\n",
    "    x = layers.MaxPooling2D(pool_size=2)(x)\n",
    "    x = layers.BatchNormalization()(x)\n",
    "    x = layers.Dropout(0.01)(x)\n",
    "    \n",
    "    x = layers.Conv2D(filters = 32, kernel_size=3, activation='relu')(x)\n",
    "    x = layers.MaxPooling2D(pool_size=2)(x)\n",
    "    x = layers.BatchNormalization()(x)\n",
    "    x = layers.Dropout(0.01)(x)\n",
    "    \n",
    "    x = layers.Conv2D(filters = 64, kernel_size=3, activation='relu')(x)\n",
    "    x = layers.MaxPooling2D(pool_size=2)(x)\n",
    "    x = layers.BatchNormalization()(x)\n",
    "    x = layers.Dropout(0.01)(x)\n",
    "    \n",
    "    x = layers.Conv2D(filters = 128, kernel_size=3, activation='relu')(x)\n",
    "    x = layers.MaxPooling2D(pool_size=2)(x)\n",
    "    x = layers.BatchNormalization()(x)\n",
    "    x = layers.Dropout(0.01)(x)\n",
    "    \n",
    "    x = layers.Flatten()(x)\n",
    "    x = layers.Dense(1024, activation='relu')(x)\n",
    "    output = layers.Dense(1, activation='sigmoid')(x)\n",
    "    \n",
    "    model = Model(img_input, output)\n",
    "    \n",
    "    return model\n",
    "\n",
    "\n",
    "model = get_model(IMAGE_SIZE)\n",
    "model.summary()"
   ]
  },
  {
   "cell_type": "code",
   "execution_count": null,
   "metadata": {
    "execution": {
     "iopub.execute_input": "2021-12-12T13:26:58.924721Z",
     "iopub.status.busy": "2021-12-12T13:26:58.924441Z",
     "iopub.status.idle": "2021-12-12T13:26:59.137024Z",
     "shell.execute_reply": "2021-12-12T13:26:59.136007Z",
     "shell.execute_reply.started": "2021-12-12T13:26:58.924688Z"
    }
   },
   "outputs": [],
   "source": [
    "#ran - 0.9898, 0.8517\n",
    "def get_model(image_size):\n",
    "    img_input = keras.Input(shape=(image_size, image_size, 1))\n",
    "    \n",
    "    x = layers.Conv2D(filters = 32, kernel_size=3, activation='relu')(img_input)\n",
    "    x = layers.MaxPooling2D(pool_size=2)(x)\n",
    "    x = layers.BatchNormalization()(x)\n",
    "    x = layers.Dropout(0.01)(x)\n",
    "    \n",
    "    x = layers.Conv2D(filters = 128, kernel_size=3, activation='relu')(x)\n",
    "    x = layers.MaxPooling2D(pool_size=2)(x)\n",
    "    x = layers.BatchNormalization()(x)\n",
    "    x = layers.Dropout(0.03)(x)\n",
    "    \n",
    "    x = layers.Conv2D(filters = 128, kernel_size=3, activation='relu')(x)\n",
    "    x = layers.MaxPooling2D(pool_size=2)(x)\n",
    "    x = layers.BatchNormalization()(x)\n",
    "    x = layers.Dropout(0.04)(x)\n",
    "    \n",
    "    x = layers.Conv2D(filters = 128, kernel_size=3, activation='relu')(x)\n",
    "    x = layers.MaxPooling2D(pool_size=2)(x)\n",
    "    x = layers.BatchNormalization()(x)\n",
    "    x = layers.Dropout(0.03)(x)\n",
    "    \n",
    "    x = layers.Conv2D(filters = 128, kernel_size=3, activation='relu')(x)\n",
    "    x = layers.MaxPooling2D(pool_size=2)(x)\n",
    "    x = layers.BatchNormalization()(x)\n",
    "    x = layers.Dropout(0.04)(x)\n",
    "    \n",
    "    x = layers.Flatten()(x)\n",
    "    x = layers.Dense(1024, activation='relu')(x)\n",
    "    x = layers.Dropout(0.1)(x)\n",
    "    \n",
    "    x = layers.Dense(1024, activation='relu')(x)\n",
    "    x = layers.Dropout(0.1)(x)\n",
    "    \n",
    "    output = layers.Dense(1, activation='sigmoid')(x)\n",
    "    \n",
    "    model = Model(img_input, output)\n",
    "    \n",
    "    return model\n",
    "\n",
    "\n",
    "model = get_model(IMAGE_SIZE)\n",
    "model.summary()"
   ]
  },
  {
   "cell_type": "code",
   "execution_count": null,
   "metadata": {
    "execution": {
     "iopub.execute_input": "2021-12-12T13:26:59.139261Z",
     "iopub.status.busy": "2021-12-12T13:26:59.1389Z",
     "iopub.status.idle": "2021-12-12T13:26:59.147349Z",
     "shell.execute_reply": "2021-12-12T13:26:59.146219Z",
     "shell.execute_reply.started": "2021-12-12T13:26:59.139216Z"
    }
   },
   "outputs": [],
   "source": [
    "print(X_train.shape)"
   ]
  },
  {
   "cell_type": "code",
   "execution_count": null,
   "metadata": {
    "execution": {
     "iopub.execute_input": "2021-12-12T13:45:25.261864Z",
     "iopub.status.busy": "2021-12-12T13:45:25.261523Z",
     "iopub.status.idle": "2021-12-12T13:54:41.676749Z",
     "shell.execute_reply": "2021-12-12T13:54:41.675807Z",
     "shell.execute_reply.started": "2021-12-12T13:45:25.261801Z"
    }
   },
   "outputs": [],
   "source": [
    "import gc\n",
    "gc.collect()\n",
    "model.compile(\n",
    "    loss=\"binary_crossentropy\",\n",
    "    optimizer=keras.optimizers.Adam(learning_rate=0.001),\n",
    "    metrics=[AUC(name='auc'),\"acc\"],\n",
    ")\n",
    "epochs = 100\n",
    "gc.collect()\n",
    "model.fit(\n",
    "    X_train,\n",
    "    y_train,\n",
    "    validation_data=(X_test, y_test),\n",
    "    epochs=epochs,\n",
    "    shuffle=True,\n",
    ")"
   ]
  }
 ],
 "metadata": {
  "kernelspec": {
   "display_name": "Python 3",
   "language": "python",
   "name": "python3"
  },
  "language_info": {
   "codemirror_mode": {
    "name": "ipython",
    "version": 3
   },
   "file_extension": ".py",
   "mimetype": "text/x-python",
   "name": "python",
   "nbconvert_exporter": "python",
   "pygments_lexer": "ipython3",
   "version": "3.8.8"
  }
 },
 "nbformat": 4,
 "nbformat_minor": 4
}
